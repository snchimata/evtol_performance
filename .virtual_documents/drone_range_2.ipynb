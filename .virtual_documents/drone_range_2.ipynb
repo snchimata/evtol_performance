# import necessary libraries
import pandas as pd
import os
import glob
  
  
# use glob to get all the csv files 
# in the folder
os.getcwd()+'\data'


# use glob to get all the csv files 
# in the folder
path = os.getcwd()
csv_files = glob.glob(os.path.join(path+'\data', "*.csv"))

column_list = ['V','capacity', 'Volts100',
       'vmass', 'Prop_diam', 'struct_mass', 'payload', 'motor_Kv',
       'motor_IR', 'motor_I0', 'motor_mass','C_d','range']

li = []
# loop over the list of csv files
for f in csv_files:
      
    # read the csv file
    df = pd.read_csv(f)
    df = df.filter(column_list)
    #df = df[df.V == 0].filter(column_list)
    #df.columns = [str(x).lower() for x in df.columns]
    li.append(df)
      
    # print the location and filename
    print('Location:', f)
    print('File Name:', f.split("\\")[-1])
      
    # print the content
    #print('Content:')
    #display(df)

frame = pd.concat(li, axis=0, ignore_index=True)


frame.count()


frame.to_csv('range_data.csv', index=False)


frame = pd.read_csv('range_data.csv')


data = frame.copy()


data.dtypes


display(data)


# libraries & dataset
import seaborn as sns
import matplotlib.pyplot as plt
# set a grey background (use sns.set_theme() if seaborn version 0.11.0 or above) 
sns.set(style="darkgrid")

fig, axs = plt.subplots(3, 4, figsize=(26, 14))

sns.histplot(data=data, x="struct_mass", color="skyblue", ax=axs[0, 0])
sns.histplot(data=data, x="payload", color="olive", ax=axs[0, 1])
sns.histplot(data=data, x="C_d", color="gold", ax=axs[0, 2])
sns.histplot(data=data, x="Prop_diam", color="teal", ax=axs[0, 3])

sns.histplot(data=data, x="motor_mass", color="skyblue", ax=axs[1, 0])
sns.histplot(data=data, x="motor_Kv", color="olive", ax=axs[1, 1])
sns.histplot(data=data, x="motor_IR", color="gold", ax=axs[1, 2])
sns.histplot(data=data, x="motor_I0", color="teal", ax=axs[1, 3])

sns.histplot(data=data, x="V", color="skyblue", ax=axs[2, 0])
sns.histplot(data=data, x="capacity", color="olive", ax=axs[2, 1])
sns.histplot(data=data, x="Volts100", color="gold", ax=axs[2, 2])
sns.histplot(data=data, x="vmass", color="teal", ax=axs[2, 3])

plt.show()


sns.histplot(data=data, x="range", color="skyblue")
plt.show()





from dataprep.eda import create_report
create_report(frame)


from pandas_profiling import ProfileReport
profile = ProfileReport(data, title="Report")
profile


# check installed version (must be >3.0)
import pycaret
from pycaret.regression import *
pycaret.__version__


s = setup(data, target = 'range', session_id = 123)


# import RegressionExperiment and init the class
from pycaret.regression import *
exp = RegressionExperiment()


# init setup on exp
exp.setup(data, target = 'range', session_id = 123)


# compare baseline models
best = compare_models(['rf','xgboost','lightgbm','knn','gbr','lr','en','mlp','et'])


best.feature_importances_


best.get_params()


# plot residuals
plot_model(best, plot = 'residuals')


# plot error
plot_model(best, plot = 'error')


# plot feature importance
plot_model(best, plot = 'feature')


evaluate_model(best)


# predict on test set
predict_model(best)


holdout_pred_range = predict_model(best)


# show predictions df
holdout_pred_range.head()


holdout_pred_range.to_csv('range_pred_data.csv', index=False)





import sklearn
sklearn.__version__


import pandas as pd 
import numpy as np

import pandas as pd
from sklearn import set_config
set_config(transform_output = "pandas")

from sklearn.pipeline import Pipeline
from sklearn.impute import SimpleImputer
from sklearn.preprocessing import StandardScaler
from sklearn.metrics import classification_report, r2_score, mean_squared_error, mean_absolute_error, make_scorer
from sklearn.ensemble import RandomForestRegressor, ExtraTreesRegressor
from sklearn.model_selection import train_test_split,GridSearchCV,RandomizedSearchCV 

data_r = pd.read_csv('range_data.csv')


target = 'range'


num_pipeline = Pipeline([
    ('imputer', SimpleImputer(strategy='median')),
    ('std_scaler', StandardScaler())
])

data = num_pipeline.fit_transform(data_r.drop(target, axis=1) )

X = data
y = data_r[target] 
  
X_train, X_test, y_train, y_test = train_test_split(X, y, 
                                       test_size=0.25, 
                                       random_state=42) 
X_train.shape, X_test.shape 


model = ExtraTreesRegressor(n_jobs=-1) 
model.fit(X_train, y_train) 
  
# predict the mode 
y_pred = model.predict(X_test) 

print('R2 score: ', r2_score(y_test,y_pred))
print('RMSE: ', np.sqrt( mean_squared_error(y_test,y_pred)) )


model.get_params()


param_grid = { 
    'n_estimators': [150, 200, 250], 
    'max_features': [1,'sqrt', 'log2', None], 
    'max_depth': [3, 6, 9, None], 
    'max_leaf_nodes': [3, 6, None], 
} 


# Type of scoring used to compare parameter combinations
mse_scorer = make_scorer(mean_squared_error)

grid_search = GridSearchCV(ExtraTreesRegressor(n_jobs=-1), 
                           param_grid=param_grid,
                           scoring=mse_scorer,
                           cv=5,
                           verbose=10,
                           n_jobs=-1
                           ) 
grid_search.fit(X_train, y_train) 



# print best parameter after tuning 
print(grid_search.best_estimator_) 
print(grid_search.best_params_) 

# Set the clf to the best combination of parameters
tuned_model = grid_search.best_estimator_

grid_predictions = tuned_model.predict(X_test) 

print('R2 score: ', r2_score(y_test,grid_predictions))
print("MAE: ",mean_absolute_error(y_test,grid_predictions))
print("MSE: ",mean_squared_error(y_test,grid_predictions))
print('RMSE: ', np.sqrt( mean_squared_error(y_test,grid_predictions)) )


from sklearn.metrics import PredictionErrorDisplay
display = PredictionErrorDisplay(y_true=y_test, y_pred=grid_predictions)
display.plot()


range_predictions = tuned_model.predict(X) 
data_r['prediction'] = range_predictions


data_r


data_r.to_csv('./output/range_finetune_pred_data.csv', index=False)


import joblib
joblib.dump(tuned_model, './model/tuned_range.pkl', compress = 1)


joblib.dump(num_pipeline, './model/preprocess_num_pipeline_range.pkl', compress = 1)
